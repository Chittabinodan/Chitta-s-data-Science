{
 "cells": [
  {
   "cell_type": "code",
   "execution_count": 1,
   "metadata": {},
   "outputs": [
    {
     "name": "stdout",
     "output_type": "stream",
     "text": [
      "Create the below pattern using nested for loop in Python: \n",
      "\n",
      "* \r\n",
      "* * \r\n",
      "* * * \r\n",
      "* * * * \r\n",
      "* * * * * \r\n",
      "* * * * \r\n",
      "* * * \r\n",
      "* * \r\n",
      "* \r\n",
      "\r\n"
     ]
    }
   ],
   "source": [
    "#2. Create the below pattern using nested for loop in Python.\n",
    "\n",
    "print(\"Create the below pattern using nested for loop in Python: \\n\");\n",
    "\n",
    "for i in range (0, 5):\n",
    "    for j in range(0, i + 1):\n",
    "        print(\"*\", end=' ')\n",
    "    print(\"\\r\")\n",
    "for i in range (5, 0, -1):\n",
    "    for j in range(0, i -1):\n",
    "        print(\"*\", end=' ')\n",
    "    print(\"\\r\")"
   ]
  },
  {
   "cell_type": "code",
   "execution_count": 2,
   "metadata": {},
   "outputs": [
    {
     "name": "stdout",
     "output_type": "stream",
     "text": [
      "Input some comma seprated numbers : 1,3,45,54,2,34,0\n",
      "List :  ['1', '3', '45', '54', '2', '34', '0']\n"
     ]
    }
   ],
   "source": [
    "values = input(\"Input some comma seprated numbers : \")\n",
    "list = values.split(\",\")\n",
    "print('List : ',list)"
   ]
  },
  {
   "cell_type": "code",
   "execution_count": 3,
   "metadata": {},
   "outputs": [
    {
     "name": "stdout",
     "output_type": "stream",
     "text": [
      "Please enter your Input:Acadgild\n",
      "dligdacA\n"
     ]
    }
   ],
   "source": [
    "value = input(\"Please enter your Input:\")\n",
    "print(value[::-1])"
   ]
  },
  {
   "cell_type": "code",
   "execution_count": 4,
   "metadata": {},
   "outputs": [
    {
     "name": "stdout",
     "output_type": "stream",
     "text": [
      "WE, THE PEOPLE OF INDIA,\n",
      "    having solemnly resolved to constitute India into a SOVEREIGN, !\n",
      "          SOCIALIST, SECULAR, DEMOCRATIC REPUBLIC\n",
      "            and to secure to all its citizens\n"
     ]
    }
   ],
   "source": [
    "#Write a Python Program to print the given string in the format specified in the sample\n",
    "#output.\n",
    "\n",
    "print(\"WE, THE PEOPLE OF INDIA,\\n    having solemnly resolved to constitute India into a SOVEREIGN, !\\n          SOCIALIST, SECULAR, DEMOCRATIC REPUBLIC\\n            and to secure to all its citizens\")"
   ]
  }
 ],
 "metadata": {
  "kernelspec": {
   "display_name": "Python 3",
   "language": "python",
   "name": "python3"
  },
  "language_info": {
   "codemirror_mode": {
    "name": "ipython",
    "version": 3
   },
   "file_extension": ".py",
   "mimetype": "text/x-python",
   "name": "python",
   "nbconvert_exporter": "python",
   "pygments_lexer": "ipython3",
   "version": "3.6.8"
  }
 },
 "nbformat": 4,
 "nbformat_minor": 2
}
